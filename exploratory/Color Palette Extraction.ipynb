{
 "cells": [
  {
   "cell_type": "code",
   "execution_count": 1,
   "id": "d6f6fd8a",
   "metadata": {},
   "outputs": [],
   "source": [
    "# Workaround to use src modules\n",
    "import os\n",
    "import sys\n",
    "module_path = os.path.abspath(os.path.join('..'))\n",
    "if module_path not in sys.path:\n",
    "    sys.path.append(module_path)"
   ]
  },
  {
   "cell_type": "code",
   "execution_count": 2,
   "id": "18d8cfd5",
   "metadata": {},
   "outputs": [],
   "source": [
    "# Library imports\n",
    "import imageio\n",
    "import numpy as np\n",
    "import matplotlib.pyplot as plt\n",
    "from skimage import filters\n",
    "from skimage.color import rgb2lab\n",
    "from scipy.stats import mode\n",
    "\n",
    "# Functions Imports\n",
    "from src.utils import image_to_grayscale, image_minmax_norm\n",
    "from src.quantization import image_bitshift\n",
    "from src.segmentation import threshold_segmentation, otsu_segmentation\n",
    "from src.visualizations import visualize_bitshift_images"
   ]
  },
  {
   "cell_type": "markdown",
   "id": "c5a795b9",
   "metadata": {},
   "source": [
    "### Objetivo\n",
    "\n",
    "Explorar técnicas de extração de paleta de cores para redução da quantidade de cores necessárias na imagem final para um N pré-selecionado."
   ]
  },
  {
   "cell_type": "code",
   "execution_count": 3,
   "id": "dfc405fe",
   "metadata": {},
   "outputs": [],
   "source": [
    "image_path = '../images/raw/anime_girl.png'\n",
    "image = imageio.imread(image_path).astype(np.uint8)"
   ]
  },
  {
   "cell_type": "code",
   "execution_count": 4,
   "id": "6735db7b",
   "metadata": {},
   "outputs": [],
   "source": [
    "# Pre-proccess - Change color to L*a*b color space\n",
    "image_lab = rgb2lab(image[:,:,:3]).astype(int)\n",
    "int_image_lab = image_lab.astype(int)\n",
    "\n",
    "# Min pixel distance to palette\n",
    "w_p = np.ones((image_lab.shape[0], image_lab.shape[1]), dtype=np.float32) * 1000.0\n",
    "\n",
    "# Maping Lab coordinates into a single value to optimize Ocurrence calculations\n",
    "disc_image_lab = np.zeros((image_lab.shape[0], image_lab.shape[1]), dtype=np.float32)\n",
    "disc_image_lab[:,:] = (10**6)*(int_image_lab[:,:,2]+128.0) + (10**3)*(int_image_lab[:,:,1]+128.0) + (10**0)*(int_image_lab[:,:,0]+128.0)\n",
    "disc_image_lab = disc_image_lab.astype(int)"
   ]
  },
  {
   "cell_type": "code",
   "execution_count": 5,
   "id": "ae3d3b43",
   "metadata": {},
   "outputs": [],
   "source": [
    "def region_score(R, disc_R, w_p):\n",
    "    \n",
    "    # Average Minimum color distance weight\n",
    "    w_p_avg = np.sum(np.power(w_p,2.0)) / float(R.size)\n",
    "    \n",
    "    # Average Lightness of the region\n",
    "    L = np.sum(R[:,:,0]) / float(R.size)\n",
    "    \n",
    "    # Find color probabilities inside the region using a normalized histogram\n",
    "    pc_r = []\n",
    "    for i in range(R.shape[0]):\n",
    "        for j in range(R.shape[1]):\n",
    "            count = np.sum(disc_R == disc_R[i,j]) \n",
    "            pc_r.append(count/float(R.size))\n",
    "    pc_r = np.array(pc_r)\n",
    "    \n",
    "    # Then use this probabilities to get the region entropy (Shannon)\n",
    "    n_r = -np.sum(pc_r * np.log2(pc_r))\n",
    "    \n",
    "    # Compute the score and return\n",
    "    S = n_r / (float(R.size) * w_p_avg * L)\n",
    "\n",
    "    return S"
   ]
  },
  {
   "cell_type": "code",
   "execution_count": 6,
   "id": "f0478be4",
   "metadata": {},
   "outputs": [
    {
     "name": "stdout",
     "output_type": "stream",
     "text": [
      "Starting Mx Search...\n",
      "Starting My Search...\n",
      "Best Region: 561 567\n",
      "Start local search...\n",
      "Border at 0 0 0 0\n",
      "Border at 0 1 1 1\n",
      "Border at 0 2 2 1\n",
      "Border at 0 3 2 1\n",
      "Starting Mx Search...\n",
      "Starting My Search...\n",
      "Best Region: 270 564\n",
      "Start local search...\n",
      "Border at 0 0 0 0\n",
      "Border at 1 1 1 1\n",
      "Border at 2 1 2 2\n",
      "Border at 3 1 3 3\n",
      "Border at 4 1 3 4\n",
      "Border at 5 1 3 5\n",
      "Border at 6 1 3 6\n",
      "Border at 6 1 3 7\n",
      "Border at 6 1 3 8\n",
      "Border at 6 1 3 9\n",
      "Starting Mx Search...\n",
      "Starting My Search...\n",
      "Best Region: 270 567\n",
      "Start local search...\n",
      "Border at 0 0 0 0\n",
      "Border at 1 1 0 1\n",
      "Border at 2 2 0 2\n",
      "Border at 3 2 0 3\n",
      "Border at 4 2 0 4\n",
      "Border at 5 2 0 5\n",
      "Border at 6 2 0 6\n",
      "Border at 6 2 0 7\n",
      "Border at 6 2 0 8\n",
      "Border at 6 2 0 9\n",
      "Starting Mx Search...\n",
      "Starting My Search...\n",
      "Best Region: 270 567\n",
      "Start local search...\n",
      "Border at 0 0 0 0\n",
      "Border at 1 1 0 1\n",
      "Border at 2 2 0 2\n",
      "Border at 3 2 0 3\n",
      "Border at 4 2 0 4\n",
      "Border at 5 2 0 5\n",
      "Border at 6 2 0 6\n",
      "Border at 6 2 0 7\n",
      "Border at 6 2 0 8\n",
      "Border at 6 2 0 9\n",
      "Starting Mx Search...\n",
      "Starting My Search...\n",
      "Best Region: 270 567\n",
      "Start local search...\n",
      "Border at 0 0 0 0\n",
      "Border at 1 1 0 1\n",
      "Border at 2 2 0 2\n",
      "Border at 3 2 0 3\n",
      "Border at 4 2 0 4\n",
      "Border at 5 2 0 5\n",
      "Border at 6 2 0 6\n",
      "Border at 6 2 0 7\n",
      "Border at 6 2 0 8\n",
      "Border at 6 2 0 9\n",
      "Starting Mx Search...\n",
      "Starting My Search...\n",
      "Best Region: 270 567\n",
      "Start local search...\n",
      "Border at 0 0 0 0\n",
      "Border at 1 1 0 1\n",
      "Border at 2 2 0 2\n",
      "Border at 3 2 0 3\n",
      "Border at 4 2 0 4\n",
      "Border at 5 2 0 5\n",
      "Border at 6 2 0 6\n",
      "Border at 6 2 0 7\n",
      "Border at 6 2 0 8\n",
      "Border at 6 2 0 9\n",
      "Starting Mx Search...\n",
      "Starting My Search...\n",
      "Best Region: 270 567\n",
      "Start local search...\n",
      "Border at 0 0 0 0\n",
      "Border at 1 1 0 1\n",
      "Border at 2 2 0 2\n",
      "Border at 3 2 0 3\n",
      "Border at 4 2 0 4\n",
      "Border at 5 2 0 5\n",
      "Border at 6 2 0 6\n",
      "Border at 6 2 0 7\n",
      "Border at 6 2 0 8\n",
      "Border at 6 2 0 9\n",
      "Starting Mx Search...\n",
      "Starting My Search...\n",
      "Best Region: 270 567\n",
      "Start local search...\n",
      "Border at 0 0 0 0\n",
      "Border at 1 1 0 1\n",
      "Border at 2 2 0 2\n",
      "Border at 3 2 0 3\n",
      "Border at 4 2 0 4\n",
      "Border at 5 2 0 5\n",
      "Border at 6 2 0 6\n",
      "Border at 6 2 0 7\n",
      "Border at 6 2 0 8\n",
      "Border at 6 2 0 9\n"
     ]
    }
   ],
   "source": [
    "palette = []\n",
    "N = 8\n",
    "\n",
    "Mx_scores = []\n",
    "My_scores = []\n",
    "\n",
    "for i in range(N):\n",
    "    \n",
    "    # Region Search -> Find the best Vertical and Horizontal Region\n",
    "    Mx_scores = []\n",
    "    My_scores = []\n",
    "    \n",
    "    print(\"Starting Mx Search...\")\n",
    "    for x in range(0, image_lab.shape[0], 3):\n",
    "        Mx_scores.append(region_score(image_lab[x:x+3,:,:], disc_image_lab[x:x+3,:], w_p[x:x+3,:]))\n",
    "    \n",
    "    print(\"Starting My Search...\")\n",
    "    for y in range(0, image_lab.shape[1], 3):\n",
    "        My_scores.append(region_score(image_lab[:,y:y+3,:], disc_image_lab[:,y:y+3], w_p[:,y:y+3]))\n",
    "        \n",
    "    ix, iy = (3*np.argmin(Mx_scores), 3*np.argmin(My_scores))\n",
    "    print(\"Best Region:\", ix, iy)\n",
    "    \n",
    "    # TODO: Try to increase region until find local minima\n",
    "    print(\"Start local search...\")\n",
    "    top = left = right = bottom = True\n",
    "    it  = il   = ir    = ib     = 0\n",
    "    last_score = region_score(image_lab[ix:ix+3,iy:iy+3,:], disc_image_lab[ix:ix+3,iy:iy+3], w_p[ix:ix+3,iy:iy+3])\n",
    "    \n",
    "    while top or left or right or bottom:\n",
    "        print(\"Border at\", it, il, ir, ib)\n",
    "        # Increase top\n",
    "        if top and (ix-it-1) > 0:\n",
    "            it   += 1\n",
    "            score = region_score(image_lab[ix-it:ix+ib+3,iy-il:iy+ir+3,:], disc_image_lab[ix-it:ix+ib+3,iy-il:iy+ir+3], w_p[ix-it:ix+ib+3,iy-il:iy+ir+3])\n",
    "            # Stop walking\n",
    "            if score >= last_score:\n",
    "                it -= 1\n",
    "                top = False\n",
    "            else:\n",
    "                last_score = score\n",
    "        else: top = False\n",
    "                \n",
    "        # Increase bottom\n",
    "        if bottom and (ix+ib+1) < disc_image_lab.shape[0]-1:\n",
    "            ib   += 1\n",
    "            score = region_score(image_lab[ix-it:ix+ib+3,iy-il:iy+ir+3,:], disc_image_lab[ix-it:ix+ib+3,iy-il:iy+ir+3], w_p[ix-it:ix+ib+3,iy-il:iy+ir+3])\n",
    "            # Stop walking\n",
    "            if score >= last_score:\n",
    "                ib -= 1\n",
    "                bottom = False\n",
    "            else:\n",
    "                last_score = score\n",
    "        else: bottom = False\n",
    "                \n",
    "        # Increase left\n",
    "        if left and (iy-il-1) > 0:\n",
    "            il   += 1\n",
    "            score = region_score(image_lab[ix-it:ix+ib+3,iy-il:iy+ir+3,:], disc_image_lab[ix-it:ix+ib+3,iy-il:iy+ir+3], w_p[ix-it:ix+ib+3,iy-il:iy+ir+3])\n",
    "            # Stop walking top\n",
    "            if score >= last_score:\n",
    "                il -= 1\n",
    "                left = False\n",
    "            else:\n",
    "                last_score = score\n",
    "        else: left = False\n",
    "                \n",
    "        # Increase right\n",
    "        if right and (ix+ir+1) < disc_image_lab.shape[1]-1:\n",
    "            ir   += 1\n",
    "            score = region_score(image_lab[ix-it:ix+ib+3,iy-il:iy+ir+3,:], disc_image_lab[ix-it:ix+ib+3,iy-il:iy+ir+3], w_p[ix-it:ix+ib+3,iy-il:iy+ir+3])\n",
    "            # Stop walking\n",
    "            if score >= last_score:\n",
    "                ir -= 1\n",
    "                right = False\n",
    "            else:\n",
    "                last_score = score\n",
    "        else: right = False\n",
    "        \n",
    "\n",
    "    # Color Extraction -> Get the color using the mode (most repetitive color)\n",
    "    # Versão antiga :3\n",
    "    # disc_color = mode(disc_image_lab[3*ix:3*ix+3,3*iy:3*iy+3].flatten())[0][0] \n",
    "    \n",
    "    # Versão nova\n",
    "    disc_color = mode(disc_image_lab[ix-it:ix+ib+3,iy-il:iy+ir+3].flatten())[0][0]\n",
    "    \n",
    "    lab_color  = [] \n",
    "    for i in range(3):\n",
    "        lab_color.append((disc_color%(10**3))-128)\n",
    "        disc_color = disc_color/(10**3)\n",
    "    \n",
    "    # Add Color to pallete and update min distances to pallete\n",
    "    palette.append(np.array(lab_color))\n",
    "    diff = np.power(image_lab-np.array(palette[-1]), 2.0)\n",
    "    dist = np.sqrt(diff[:,:,0] + diff[:,:,1] + diff[:,:,2])\n",
    "    w_p = np.where(w_p < dist, w_p, dist) "
   ]
  },
  {
   "cell_type": "code",
   "execution_count": 10,
   "id": "55469d24",
   "metadata": {},
   "outputs": [
    {
     "data": {
      "text/plain": [
       "<matplotlib.image.AxesImage at 0x7f7bb55f2e50>"
      ]
     },
     "execution_count": 10,
     "metadata": {},
     "output_type": "execute_result"
    },
    {
     "data": {
      "image/png": "[encoded data removed]",
      "text/plain": [
       "<Figure size 432x288 with 1 Axes>"
      ]
     },
     "metadata": {
      "needs_background": "light"
     },
     "output_type": "display_data"
    }
   ],
   "source": [
    "plt.imshow(image[561:561+3,567:567+3,:])"
   ]
  },
  {
   "cell_type": "code",
   "execution_count": 11,
   "id": "cefb0918",
   "metadata": {},
   "outputs": [
    {
     "data": {
      "text/plain": [
       "<matplotlib.image.AxesImage at 0x7f7bb55c27c0>"
      ]
     },
     "execution_count": 11,
     "metadata": {},
     "output_type": "execute_result"
    },
    {
     "data": {
      "image/png": "[encoded data removed]",
      "text/plain": [
       "<Figure size 432x288 with 1 Axes>"
      ]
     },
     "metadata": {
      "needs_background": "light"
     },
     "output_type": "display_data"
    }
   ],
   "source": [
    "plt.imshow(image[270:270+3,564:564+3,:])"
   ]
  },
  {
   "cell_type": "code",
   "execution_count": 12,
   "id": "e4e268a8",
   "metadata": {},
   "outputs": [
    {
     "data": {
      "text/plain": [
       "<matplotlib.image.AxesImage at 0x7f7bb5582e80>"
      ]
     },
     "execution_count": 12,
     "metadata": {},
     "output_type": "execute_result"
    },
    {
     "data": {
      "image/png": "[encoded data removed]",
      "text/plain": [
       "<Figure size 432x288 with 1 Axes>"
      ]
     },
     "metadata": {
      "needs_background": "light"
     },
     "output_type": "display_data"
    }
   ],
   "source": [
    "plt.imshow(image[270:270+3,567:567+3,:])"
   ]
  },
  {
   "cell_type": "code",
   "execution_count": 9,
   "id": "e4b8e5b4",
   "metadata": {},
   "outputs": [
    {
     "data": {
      "text/plain": [
       "[array([80.      ,  2.208   , -6.869792]),\n",
       " array([80.      , 14.208   , 20.142208]),\n",
       " array([88.      , -4.784   , -2.876784]),\n",
       " array([88.      , -4.784   , -2.876784]),\n",
       " array([88.      , -4.784   , -2.876784]),\n",
       " array([88.      , -4.784   , -2.876784]),\n",
       " array([88.      , -4.784   , -2.876784]),\n",
       " array([88.      , -4.784   , -2.876784])]"
      ]
     },
     "execution_count": 9,
     "metadata": {},
     "output_type": "execute_result"
    }
   ],
   "source": [
    "palette"
   ]
  },
  {
   "cell_type": "code",
   "execution_count": null,
   "id": "5afc5194",
   "metadata": {},
   "outputs": [],
   "source": []
  }
 ],
 "metadata": {
  "kernelspec": {
   "display_name": "Python 3",
   "language": "python",
   "name": "python3"
  },
  "language_info": {
   "codemirror_mode": {
    "name": "ipython",
    "version": 3
   },
   "file_extension": ".py",
   "mimetype": "text/x-python",
   "name": "python",
   "nbconvert_exporter": "python",
   "pygments_lexer": "ipython3",
   "version": "3.8.5"
  }
 },
 "nbformat": 4,
 "nbformat_minor": 5
}
